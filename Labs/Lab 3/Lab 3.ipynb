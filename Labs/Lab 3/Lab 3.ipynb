{
 "cells": [
  {
   "cell_type": "markdown",
   "source": [
    "# Lab Three\n",
    "---\n",
    "\n",
    "Ok for this lab we're going to reiterate a lot of the things that we went over in class.\n",
    "\n",
    "Our Goals are:\n",
    "- Understanding Variable Types\n",
    "- Defining Variables\n",
    "- Using Conditionals\n",
    "- Using Loops\n",
    "- Creating Objects\n",
    "- Writing a function\n"
   ],
   "metadata": {}
  },
  {
   "cell_type": "markdown",
   "source": [],
   "metadata": {}
  },
  {
   "cell_type": "markdown",
   "source": [
    "## What's the difference between Null and undefined?"
   ],
   "metadata": {}
  },
  {
   "cell_type": "markdown",
   "source": [
    "Null has no value on purpose and undefined is declared but nor undefined"
   ],
   "metadata": {}
  },
  {
   "cell_type": "markdown",
   "source": [
    "## List the 3 Variable Types and Use Them!\n",
    "---\n",
    "Data types:\n",
    "- Boolean\n",
    "- Number\n",
    "- String"
   ],
   "metadata": {}
  },
  {
   "cell_type": "code",
   "execution_count": null,
   "source": [
    "console.log(false)\n",
    "console.log(2+1)\n",
    "\"string\""
   ],
   "outputs": [],
   "metadata": {}
  },
  {
   "cell_type": "markdown",
   "source": [
    "## Use an If/Else If/Else Statement and a Switch Case statement"
   ],
   "metadata": {}
  },
  {
   "cell_type": "code",
   "execution_count": null,
   "source": [
    "if (1 === '1') {\n",
    "    console.log(\"Hello\");\n",
    "}\n",
    "\n",
    "if (1 == 1) {\n",
    "    console.log(\"Hello\");\n",
    "}\n",
    "\n",
    "if (1 == '1') {\n",
    "    console.log(\"Hello\");\n",
    "}\n",
    "\n",
    "if (\"B\" == \"A\") {\n",
    "    console.log(\"C\");\n",
    "} else if (\"A\" == \"A\") {\n",
    "    console.log(\"D\");\n",
    "}\n",
    "\n",
    "var starter = \"Chelsea\";\n",
    "switch (starter) {\n",
    "    case \"Man City\":\n",
    "        console.log(\"City survives on oil money\");\n",
    "        break;\n",
    "    case \"Arsenal\":\n",
    "        console.log(\"I feel sorry for Arsenal fans at this point\");\n",
    "        break;\n",
    "    case \"Liverpool\":\n",
    "        console.log(\"Lol Gerrard slip\");\n",
    "        break;\n",
    "\n",
    "    default:\n",
    "        console.log(\"Chelsea is the  best team in the prem\");\n",
    "        break;\n",
    "}"
   ],
   "outputs": [],
   "metadata": {}
  },
  {
   "cell_type": "markdown",
   "source": [
    "## Use a For and a While Loop"
   ],
   "metadata": {}
  },
  {
   "cell_type": "code",
   "execution_count": null,
   "source": [
    "for (var i = 1; i < 10; i++) {\n",
    "    System.out.println(\"We're currently printing out: \" + i);\n",
    "}\n",
    "\n",
    "let num1 = 10;\n",
    "let num2 = 2;\n",
    "let mean = (num1+num2/2);\n",
    "\n",
    "let i= 1;\n",
    "\n",
    "while (i != mean) {\n",
    "    System.out.println(\"mean found\");\n",
    "    i++;\n",
    "}"
   ],
   "outputs": [],
   "metadata": {}
  },
  {
   "cell_type": "markdown",
   "source": [
    "## Make an object!"
   ],
   "metadata": {}
  },
  {
   "cell_type": "code",
   "execution_count": null,
   "source": [
    "let Schedule = {\n",
    "    Mon: \"class\",\n",
    "    Tue:  \"more class\",\n",
    "    Wed: \"Class with Mr. Kippins\",\n",
    "    Thur: \"Even more class\",\n",
    "    Fri: \"Who cares what we do its the weekend\"\n",
    "}"
   ],
   "outputs": [],
   "metadata": {}
  },
  {
   "cell_type": "markdown",
   "source": [
    "## Make a function, It can do anything!"
   ],
   "metadata": {}
  },
  {
   "cell_type": "code",
   "execution_count": null,
   "source": [
    "function one (){\n",
    "    alert(\"whats up\");\n",
    "}\n",
    "one();"
   ],
   "outputs": [],
   "metadata": {}
  },
  {
   "cell_type": "markdown",
   "source": [
    "## Optional: Checkout HackerRank and try a problem in Javascript"
   ],
   "metadata": {}
  }
 ],
 "metadata": {
  "orig_nbformat": 4,
  "language_info": {
   "name": "javascript",
   "version": "10.22.0",
   "mimetype": "application/javascript",
   "file_extension": ".js"
  },
  "kernelspec": {
   "name": "javascript",
   "display_name": "Javascript (Node.js)",
   "language": "javascript"
  }
 },
 "nbformat": 4,
 "nbformat_minor": 2
}